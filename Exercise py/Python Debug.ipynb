{
 "cells": [
  {
   "cell_type": "code",
   "execution_count": 1,
   "metadata": {},
   "outputs": [],
   "source": [
    "import pdb"
   ]
  },
  {
   "cell_type": "code",
   "execution_count": null,
   "metadata": {},
   "outputs": [
    {
     "name": "stdout",
     "output_type": "stream",
     "text": [
      "92\n",
      "--Return--\n",
      "> <ipython-input-4-9ca528ab18a5>(8)<module>()->None\n",
      "-> pdb.set_trace()\n",
      "(Pdb) 34\n",
      "34\n",
      "(Pdb) x\n",
      "[1, 24, 4]\n",
      "(Pdb) z\n",
      "90\n",
      "(Pdb) y+z\n",
      "92\n"
     ]
    }
   ],
   "source": [
    "x=[1,24,4]\n",
    "y=2\n",
    "z=90\n",
    "\n",
    "result=y+z\n",
    "print (result)\n",
    "\n",
    "pdb.set_trace()\n",
    "\n",
    "\n",
    "result2=y+x\n",
    "print (result2)"
   ]
  },
  {
   "cell_type": "code",
   "execution_count": null,
   "metadata": {},
   "outputs": [],
   "source": []
  }
 ],
 "metadata": {
  "kernelspec": {
   "display_name": "Python 3",
   "language": "python",
   "name": "python3"
  },
  "language_info": {
   "codemirror_mode": {
    "name": "ipython",
    "version": 3
   },
   "file_extension": ".py",
   "mimetype": "text/x-python",
   "name": "python",
   "nbconvert_exporter": "python",
   "pygments_lexer": "ipython3",
   "version": "3.7.1"
  }
 },
 "nbformat": 4,
 "nbformat_minor": 2
}
