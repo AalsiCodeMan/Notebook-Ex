{
 "cells": [
  {
   "cell_type": "code",
   "execution_count": 4,
   "metadata": {},
   "outputs": [
    {
     "name": "stdout",
     "output_type": "stream",
     "text": [
      "No,You are good boy\n"
     ]
    }
   ],
   "source": [
    "Bad=False\n",
    "if Bad:\n",
    "    print(\"I am bad Boy\")\n",
    "else:\n",
    "    print(\"No,You are good boy\")"
   ]
  },
  {
   "cell_type": "code",
   "execution_count": 8,
   "metadata": {},
   "outputs": [
    {
     "name": "stdout",
     "output_type": "stream",
     "text": [
      "No,You are good boy\n"
     ]
    }
   ],
   "source": [
    "Bad=\"True\"\n",
    "if Bad==\"Ramu\":\n",
    "    print(\"I am bad Boy\")\n",
    "elif Bad==\"Raju\":\n",
    "    print(\"Raju too Gunda hai\")\n",
    "else:\n",
    "    print(\"No,You are good boy\")"
   ]
  },
  {
   "cell_type": "code",
   "execution_count": null,
   "metadata": {},
   "outputs": [],
   "source": []
  },
  {
   "cell_type": "code",
   "execution_count": null,
   "metadata": {},
   "outputs": [],
   "source": []
  },
  {
   "cell_type": "code",
   "execution_count": null,
   "metadata": {},
   "outputs": [],
   "source": []
  },
  {
   "cell_type": "code",
   "execution_count": 12,
   "metadata": {},
   "outputs": [
    {
     "name": "stdout",
     "output_type": "stream",
     "text": [
      "Shyam ka kabhi kuch ni ho skta\n"
     ]
    }
   ],
   "source": [
    "name='Shyam'\n",
    "\n",
    "if name ==\"Babu Rao\":\n",
    "    print(\"Babu bhaiya is great\")\n",
    "elif name==\"Shyam\":\n",
    "    print(\"Shyam ka kabhi kuch ni ho skta\")\n",
    "else:\n",
    "    print(\"Raju Bahut Kamina Hai\")"
   ]
  },
  {
   "cell_type": "code",
   "execution_count": null,
   "metadata": {},
   "outputs": [],
   "source": []
  }
 ],
 "metadata": {
  "kernelspec": {
   "display_name": "Python 3",
   "language": "python",
   "name": "python3"
  },
  "language_info": {
   "codemirror_mode": {
    "name": "ipython",
    "version": 3
   },
   "file_extension": ".py",
   "mimetype": "text/x-python",
   "name": "python",
   "nbconvert_exporter": "python",
   "pygments_lexer": "ipython3",
   "version": "3.7.1"
  }
 },
 "nbformat": 4,
 "nbformat_minor": 2
}
