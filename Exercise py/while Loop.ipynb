{
 "cells": [
  {
   "cell_type": "code",
   "execution_count": 8,
   "metadata": {},
   "outputs": [
    {
     "name": "stdout",
     "output_type": "stream",
     "text": [
      "The Current value of l is 0\n",
      "The Current value of l is 1\n",
      "The Current value of l is 2\n",
      "The Current value of l is 3\n",
      "The Current value of l is 4\n",
      "The Current value of l is 5\n",
      "The Current value of l is 6\n",
      "The Current value of l is 7\n",
      "The Current value of l is 8\n",
      "The Current value of l is 9\n"
     ]
    }
   ],
   "source": [
    "l=0\n",
    "\n",
    "while l<10:\n",
    "    print(f'The Current value of l is {l}')\n",
    "    l=l+1"
   ]
  },
  {
   "cell_type": "code",
   "execution_count": 9,
   "metadata": {},
   "outputs": [
    {
     "name": "stdout",
     "output_type": "stream",
     "text": [
      "l is not less than 0\n"
     ]
    }
   ],
   "source": [
    "l=60\n",
    "\n",
    "while l<10:\n",
    "    print(f'The Current value of l is {l}')\n",
    "    l=l+1\n",
    "    \n",
    "else:\n",
    "    print((\"l is not less than 0\"))"
   ]
  },
  {
   "cell_type": "code",
   "execution_count": null,
   "metadata": {},
   "outputs": [],
   "source": []
  }
 ],
 "metadata": {
  "kernelspec": {
   "display_name": "Python 3",
   "language": "python",
   "name": "python3"
  },
  "language_info": {
   "codemirror_mode": {
    "name": "ipython",
    "version": 3
   },
   "file_extension": ".py",
   "mimetype": "text/x-python",
   "name": "python",
   "nbconvert_exporter": "python",
   "pygments_lexer": "ipython3",
   "version": "3.7.1"
  }
 },
 "nbformat": 4,
 "nbformat_minor": 2
}
