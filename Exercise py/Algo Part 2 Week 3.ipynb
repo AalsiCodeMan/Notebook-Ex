{
 "cells": [
  {
   "cell_type": "code",
   "execution_count": 1,
   "metadata": {},
   "outputs": [
    {
     "name": "stdout",
     "output_type": "stream",
     "text": [
      "1213\n"
     ]
    }
   ],
   "source": [
    "##########\n",
    "median_list = []\n",
    "heap_min = []\n",
    "heap_max = []\n",
    "counter_k = 0\n",
    "\n",
    "\n",
    "##########\n",
    "def reorder_heap(heap_list):\n",
    "    heap_length = len(heap_list)\n",
    "    new_element_location = heap_length-1\n",
    "    parent_location = new_element_location // 2 - ((new_element_location + 1) % 2)\n",
    "    while heap_list[new_element_location] < heap_list[parent_location]:\n",
    "        heap_list[new_element_location], heap_list[parent_location] = heap_list[parent_location], \\\n",
    "                                                                                 heap_list[new_element_location]\n",
    "        new_element_location = parent_location\n",
    "        if new_element_location == 0:\n",
    "            break\n",
    "        parent_location = new_element_location // 2 - (new_element_location + 1) % 2\n",
    "    return heap_list\n",
    "\n",
    "\n",
    "##########\n",
    "median_list.append(0)\n",
    "\n",
    "file = open(\"C:/Users/karti/Downloads/HW 3 data.txt\", \"r\")\n",
    "data = file.readlines()\n",
    "\n",
    "for line in data:\n",
    "    line = line.strip()\n",
    "    counter_k += 1\n",
    "    if int(line) <= median_list[counter_k - 1]:\n",
    "        heap_min.append(int(line)*(-1))\n",
    "        heap_min = reorder_heap(heap_min)\n",
    "    else:\n",
    "        heap_max.append(int(line))\n",
    "        heap_max = reorder_heap(heap_max)\n",
    "\n",
    "    if abs(len(heap_max) - len(heap_min)) > 1:\n",
    "        if len(heap_max) > len(heap_min):\n",
    "            heap_min.append(heap_max.pop(0) * (-1))\n",
    "            reorder_heap(heap_min)\n",
    "            heap_max.insert(0, heap_max.pop(len(heap_max) - 1))\n",
    "            bubble_down_location = 0\n",
    "            while heap_max[bubble_down_location] > min(heap_max[bubble_down_location * 2 + 1], heap_max[bubble_down_location * 2 + 2]):\n",
    "                swap_location = heap_max.index(min(heap_max[bubble_down_location * 2 + 1], heap_max[bubble_down_location * 2 + 2]))\n",
    "                heap_max[bubble_down_location], heap_max[swap_location] = heap_max[swap_location], heap_max[bubble_down_location]\n",
    "                bubble_down_location = swap_location\n",
    "                if (swap_location * 2 + 2) >= len(heap_max):\n",
    "                    break\n",
    "\n",
    "        else:\n",
    "            heap_max.append(heap_min.pop(0) * (-1))\n",
    "            reorder_heap(heap_max)\n",
    "            heap_min.insert(0, heap_min.pop(len(heap_min) - 1))\n",
    "            bubble_down_location = 0\n",
    "            while heap_min[bubble_down_location] > min(heap_min[bubble_down_location * 2 + 1],\n",
    "                                                       heap_min[bubble_down_location * 2 + 2]):\n",
    "                swap_location = heap_min.index(\n",
    "                    min(heap_min[bubble_down_location * 2 + 1], heap_min[bubble_down_location * 2 + 2]))\n",
    "                heap_min[bubble_down_location], heap_min[swap_location] = heap_min[swap_location], heap_min[\n",
    "                    bubble_down_location]\n",
    "                bubble_down_location = swap_location\n",
    "                if (swap_location * 2 + 2) >= len(heap_min):\n",
    "                    break\n",
    "\n",
    "    if counter_k % 2 == 0:\n",
    "        median_list.append(heap_min[0]*(-1))\n",
    "    else:\n",
    "        if len(heap_max) > len(heap_min):\n",
    "            median_list.append(heap_max[0])\n",
    "        else:\n",
    "            median_list.append(heap_min[0]*(-1))\n",
    "\n",
    "\n",
    "sums = sum(median_list)\n",
    "print(sums % 10000)\n"
   ]
  },
  {
   "cell_type": "code",
   "execution_count": null,
   "metadata": {},
   "outputs": [],
   "source": []
  }
 ],
 "metadata": {
  "kernelspec": {
   "display_name": "Python 3",
   "language": "python",
   "name": "python3"
  },
  "language_info": {
   "codemirror_mode": {
    "name": "ipython",
    "version": 3
   },
   "file_extension": ".py",
   "mimetype": "text/x-python",
   "name": "python",
   "nbconvert_exporter": "python",
   "pygments_lexer": "ipython3",
   "version": "3.7.6"
  }
 },
 "nbformat": 4,
 "nbformat_minor": 4
}
