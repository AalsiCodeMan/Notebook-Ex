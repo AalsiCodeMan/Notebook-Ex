{
 "cells": [
  {
   "cell_type": "markdown",
   "metadata": {},
   "source": [
    "# Text to Speech Model"
   ]
  },
  {
   "cell_type": "code",
   "execution_count": 9,
   "metadata": {},
   "outputs": [],
   "source": [
    "##Importing Libararies\n",
    "import speech_recognition as sr\n",
    "from gtts import gTTS\n",
    "import os"
   ]
  },
  {
   "cell_type": "code",
   "execution_count": 10,
   "metadata": {},
   "outputs": [
    {
     "name": "stdout",
     "output_type": "stream",
     "text": [
      "Here Are The Choice You Want The Audio In:\n",
      "1.Chinese \n",
      "2.French\n",
      "3.Spanish\n",
      "4.Hindi\n",
      "5.Gujarati\n"
     ]
    }
   ],
   "source": [
    "#Choosing Languages\n",
    "print(\"Here Are The Choice You Want The Audio In:\")\n",
    "print(\"1.Chinese \")\n",
    "print(\"2.French\")\n",
    "print(\"3.Spanish\")\n",
    "print(\"4.Hindi\")\n",
    "print(\"5.Gujarati\")"
   ]
  },
  {
   "cell_type": "code",
   "execution_count": 11,
   "metadata": {},
   "outputs": [
    {
     "name": "stdout",
     "output_type": "stream",
     "text": [
      "enter your choice:2\n"
     ]
    }
   ],
   "source": [
    "#Enter Your Choice \n",
    "x=int(input(\"enter your choice:\"))"
   ]
  },
  {
   "cell_type": "code",
   "execution_count": 13,
   "metadata": {},
   "outputs": [
    {
     "name": "stdout",
     "output_type": "stream",
     "text": [
      "Enter Text As Per The Language Being Choosen :Ordinateur signifiait autrefois une personne qui faisait des calculs, mais maintenant, le terme se réfère presque universellement aux machines électroniques automatisées. La première section de cet article se concentre sur les ordinateurs électroniques numériques modernes et leur conception, leurs composants et leurs applications. La deuxième section couvre l'histoire de l'informatique. Pour plus de détails sur l'architecture informatique, les logiciels et la théorie, voir informatique.\n"
     ]
    }
   ],
   "source": [
    "#Input Your TExt\n",
    "mytext=input(\"Enter Text As Per The Language Being Choosen :\")"
   ]
  },
  {
   "cell_type": "code",
   "execution_count": 14,
   "metadata": {},
   "outputs": [
    {
     "data": {
      "text/plain": [
       "\"Ordinateur signifiait autrefois une personne qui faisait des calculs, mais maintenant, le terme se réfère presque universellement aux machines électroniques automatisées. La première section de cet article se concentre sur les ordinateurs électroniques numériques modernes et leur conception, leurs composants et leurs applications. La deuxième section couvre l'histoire de l'informatique. Pour plus de détails sur l'architecture informatique, les logiciels et la théorie, voir informatique.\""
      ]
     },
     "execution_count": 14,
     "metadata": {},
     "output_type": "execute_result"
    }
   ],
   "source": [
    "#Output of My TExt\n",
    "mytext"
   ]
  },
  {
   "cell_type": "code",
   "execution_count": 15,
   "metadata": {},
   "outputs": [],
   "source": [
    "#Conditioning \n",
    "if x==1:\n",
    "    l=\"bn\"\n",
    "elif x==2:\n",
    "    l=\"fr\"\n",
    "elif x==3:\n",
    "    l=\"es\"\n",
    "elif x==4:\n",
    "    l=\"hi\"\n",
    "elif x==5:\n",
    "    l=\"gu\"\n",
    "else:\n",
    "    l=\"en\""
   ]
  },
  {
   "cell_type": "code",
   "execution_count": 16,
   "metadata": {},
   "outputs": [
    {
     "data": {
      "text/plain": [
       "0"
      ]
     },
     "execution_count": 16,
     "metadata": {},
     "output_type": "execute_result"
    }
   ],
   "source": [
    "#Voice Model\n",
    "my_obj=gTTS(mytext,lang=l,slow=False)\n",
    "my_obj.save('French.mp3')\n",
    "os.system(\"French.mp3\")"
   ]
  },
  {
   "cell_type": "code",
   "execution_count": null,
   "metadata": {},
   "outputs": [],
   "source": []
  }
 ],
 "metadata": {
  "kernelspec": {
   "display_name": "Python 3",
   "language": "python",
   "name": "python3"
  },
  "language_info": {
   "codemirror_mode": {
    "name": "ipython",
    "version": 3
   },
   "file_extension": ".py",
   "mimetype": "text/x-python",
   "name": "python",
   "nbconvert_exporter": "python",
   "pygments_lexer": "ipython3",
   "version": "3.7.6"
  }
 },
 "nbformat": 4,
 "nbformat_minor": 4
}
