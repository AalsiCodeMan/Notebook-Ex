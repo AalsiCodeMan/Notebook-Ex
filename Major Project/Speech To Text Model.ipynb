{
 "cells": [
  {
   "cell_type": "markdown",
   "metadata": {},
   "source": [
    "# Speech To Text Model\n"
   ]
  },
  {
   "cell_type": "code",
   "execution_count": 19,
   "metadata": {},
   "outputs": [],
   "source": [
    "##Importing Libararies\n",
    "import speech_recognition as sr\n",
    "from gtts import gTTS"
   ]
  },
  {
   "cell_type": "code",
   "execution_count": 25,
   "metadata": {},
   "outputs": [
    {
     "name": "stdout",
     "output_type": "stream",
     "text": [
      "Speak Now\n"
     ]
    }
   ],
   "source": [
    "# Initialize recognizer class (for recognizing the speech)\n",
    "r= sr.Recognizer()\n",
    "# Reading Microphone as source\n",
    "with sr.Microphone() as source:\n",
    "    print(\"Speak Now\")\n",
    "    audio= r.listen(source)"
   ]
  },
  {
   "cell_type": "code",
   "execution_count": 30,
   "metadata": {},
   "outputs": [],
   "source": [
    "#Providing choice for language of translation\n",
    "try:\n",
    "    # using google speech recognition\n",
    "    r.recognize_google(audio)\n",
    "except:\n",
    "    print(\"Sorry,I amn't understand your Voice\")"
   ]
  },
  {
   "cell_type": "code",
   "execution_count": 31,
   "metadata": {},
   "outputs": [
    {
     "name": "stdout",
     "output_type": "stream",
     "text": [
      "Here Are Your Choices\n",
      "Want Text in\n",
      "1.Bengali\n",
      "2.English\n",
      "3.Hindi\n",
      "4.French\n"
     ]
    }
   ],
   "source": [
    "print(\"Here Are Your Choices\")\n",
    "print(\"Want Text in\")\n",
    "print(\"1.Bengali\")\n",
    "print(\"2.English\")\n",
    "print(\"3.Hindi\")\n",
    "print(\"4.French\")"
   ]
  },
  {
   "cell_type": "code",
   "execution_count": 32,
   "metadata": {},
   "outputs": [
    {
     "name": "stdout",
     "output_type": "stream",
     "text": [
      "What's Your Choice:3\n"
     ]
    }
   ],
   "source": [
    "x= int(input(\"What's Your Choice:\"))"
   ]
  },
  {
   "cell_type": "code",
   "execution_count": 33,
   "metadata": {},
   "outputs": [
    {
     "name": "stdout",
     "output_type": "stream",
     "text": [
      "हेलो क्या कर रहे हो\n"
     ]
    }
   ],
   "source": [
    "if x==1:\n",
    "    text=r.recognize_google(audio,language='bn')\n",
    "    print(text)\n",
    "elif x==2:\n",
    "    text= r.recognize_google(audio,language=\"en\")\n",
    "    print(text)\n",
    "elif x==3:\n",
    "    text= r.recognize_google(audio,language=\"hi\")\n",
    "    print(text)\n",
    "elif x==4:\n",
    "    text= r.recognize_google(audio,language=\"fr\")\n",
    "    print(text)\n",
    "else:\n",
    "    text=r.recognize_google(audio)\n",
    "    print(text)"
   ]
  },
  {
   "cell_type": "code",
   "execution_count": null,
   "metadata": {},
   "outputs": [],
   "source": []
  }
 ],
 "metadata": {
  "kernelspec": {
   "display_name": "Python 3",
   "language": "python",
   "name": "python3"
  },
  "language_info": {
   "codemirror_mode": {
    "name": "ipython",
    "version": 3
   },
   "file_extension": ".py",
   "mimetype": "text/x-python",
   "name": "python",
   "nbconvert_exporter": "python",
   "pygments_lexer": "ipython3",
   "version": "3.7.6"
  }
 },
 "nbformat": 4,
 "nbformat_minor": 4
}
